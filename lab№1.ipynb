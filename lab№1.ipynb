{
 "cells": [
  {
   "cell_type": "code",
   "execution_count": 1,
   "id": "79aaf560",
   "metadata": {},
   "outputs": [
    {
     "data": {
      "text/plain": [
       "<matplotlib.collections.PathCollection at 0x1453547b6d0>"
      ]
     },
     "execution_count": 1,
     "metadata": {},
     "output_type": "execute_result"
    },
    {
     "data": {
      "image/png": "[encoded data removed]",
      "text/plain": [
       "<Figure size 432x288 with 1 Axes>"
      ]
     },
     "metadata": {
      "needs_background": "light"
     },
     "output_type": "display_data"
    }
   ],
   "source": [
    "#Import the required modules, numpy for calculation, and Matplotlib for drawing\n",
    "\n",
    "from tkinter import X\n",
    "import numpy as np\n",
    "import matplotlib.pyplot as plt\n",
    "#This code is for jupyter Notebook only\n",
    "\n",
    "%matplotlib inline\n",
    "\n",
    "#define data, and change list to array\n",
    "x= [3,21,22,34, 54,34, 55, 67,89, 99]\n",
    "x= np.array (x)\n",
    "\n",
    "y= [2,22,24, 65, 79,82, 55,130,150,199]\n",
    "\n",
    "y= np.array(y)\n",
    "\n",
    "#Show the effect of a scatter plot\n",
    "plt.scatter (x,y)"
   ]
  },
  {
   "cell_type": "code",
   "execution_count": 2,
   "id": "6df1fc55",
   "metadata": {},
   "outputs": [],
   "source": [
    "#The basic linear regression model is wx+ b, and since this is a two-dimensional\n",
    "#space, the model is ax+ b\n",
    "\n",
    "def model(a, b, x):\n",
    "    return a*x + b\n",
    "\n",
    "#Tahe most commonly used loss function of linear regression model is the loss\n",
    "#function of mean variance difference\n",
    "def loss_function(a, b, x, y):\n",
    "    num = len (x)\n",
    "\n",
    "    prediction=model (a,b, x)\n",
    "\n",
    "    return (0.5/num) * (np.square(prediction-y)).sum()\n",
    "\n",
    "#The optimization function mainly USES partial derivatives to update two parameters a\n",
    "#and b\n",
    "def optimize (a,b,x,y):\n",
    "\n",
    "    num = len (x)\n",
    "\n",
    "    prediction = model (a,b, x)\n",
    "\n",
    "    #Update the values of A and B by finding the partial derivatives of the loss\n",
    "    #function on a and b\n",
    "\n",
    "    da = (1.0/num) * ((prediction -y)*x).sum()\n",
    "\n",
    "    db = (1.0/num) * ((prediction -y).sum())\n",
    "\n",
    "    a =a - Lr*da\n",
    "\n",
    "    b= b - Lr*db\n",
    "\n",
    "    return a, b\n",
    "\n",
    "#iterated function, return a and b\n",
    "def iterate(a,b,x,y, times) :\n",
    "    for i in range (times):\n",
    "        a,b = optimize(a,b,x,y)\n",
    "    return a,b"
   ]
  },
  {
   "cell_type": "code",
   "execution_count": 3,
   "id": "c3fb0771",
   "metadata": {},
   "outputs": [
    {
     "name": "stdout",
     "output_type": "stream",
     "text": [
      "[0.05048327]\n",
      "[0.72878993]\n",
      "[0.05579453] [0.72886758] 4655.077578666128\n"
     ]
    },
    {
     "data": {
      "text/plain": [
       "[<matplotlib.lines.Line2D at 0x145355a43a0>]"
      ]
     },
     "execution_count": 3,
     "metadata": {},
     "output_type": "execute_result"
    },
    {
     "data": {
      "image/png": "[encoded data removed]",
      "text/plain": [
       "<Figure size 432x288 with 1 Axes>"
      ]
     },
     "metadata": {
      "needs_background": "light"
     },
     "output_type": "display_data"
    }
   ],
   "source": [
    "#Initialize parameters and display\n",
    "a = np.random.rand(1)\n",
    "\n",
    "print (a)\n",
    "\n",
    "b = np.random.rand(1)\n",
    "\n",
    "print (b)\n",
    "\n",
    "Lr = 0.000001\n",
    "\n",
    "#For the first iteration, the parameter values, losses, and visualization after the iteration are displayed\n",
    "\n",
    "a,b = iterate(a,b,x,y,1)\n",
    "\n",
    "prediction=model (a,b, x)\n",
    "\n",
    "loss = loss_function(a, b, x, y)\n",
    "\n",
    "print (a,b, loss)\n",
    "\n",
    "plt.scatter (x,y)\n",
    "\n",
    "plt.plot (x,prediction)"
   ]
  },
  {
   "cell_type": "code",
   "execution_count": 5,
   "id": "4b4d115e",
   "metadata": {},
   "outputs": [
    {
     "name": "stdout",
     "output_type": "stream",
     "text": [
      "[0.07162843] [0.72909904] 4571.619643783989\n"
     ]
    },
    {
     "data": {
      "text/plain": [
       "[<matplotlib.lines.Line2D at 0x145356853d0>]"
      ]
     },
     "execution_count": 5,
     "metadata": {},
     "output_type": "execute_result"
    },
    {
     "data": {
      "image/png": "[encoded data removed]",
      "text/plain": [
       "<Figure size 432x288 with 1 Axes>"
      ]
     },
     "metadata": {
      "needs_background": "light"
     },
     "output_type": "display_data"
    }
   ],
   "source": [
    "a,b = iterate(a,b,x,y,2)\n",
    "\n",
    "prediction=model (a,b, x)\n",
    "\n",
    "loss = loss_function(a, b, x, y)\n",
    "\n",
    "print (a,b, loss)\n",
    "\n",
    "plt.scatter (x,y)\n",
    "\n",
    "plt.plot (x,prediction)"
   ]
  },
  {
   "cell_type": "code",
   "execution_count": 6,
   "id": "fb99ab42",
   "metadata": {},
   "outputs": [
    {
     "name": "stdout",
     "output_type": "stream",
     "text": [
      "[0.08731362] [0.72932823] 4489.722024598534\n"
     ]
    },
    {
     "data": {
      "text/plain": [
       "[<matplotlib.lines.Line2D at 0x145356eda00>]"
      ]
     },
     "execution_count": 6,
     "metadata": {},
     "output_type": "execute_result"
    },
    {
     "data": {
      "image/png": "[encoded data removed]",
      "text/plain": [
       "<Figure size 432x288 with 1 Axes>"
      ]
     },
     "metadata": {
      "needs_background": "light"
     },
     "output_type": "display_data"
    }
   ],
   "source": [
    "a,b = iterate(a,b,x,y,3)\n",
    "\n",
    "prediction=model (a,b, x)\n",
    "\n",
    "loss = loss_function(a, b, x, y)\n",
    "\n",
    "print (a,b, loss)\n",
    "\n",
    "plt.scatter (x,y)\n",
    "\n",
    "plt.plot (x,prediction)"
   ]
  },
  {
   "cell_type": "code",
   "execution_count": 7,
   "id": "baf37cb3",
   "metadata": {},
   "outputs": [
    {
     "name": "stdout",
     "output_type": "stream",
     "text": [
      "[0.10799828] [0.72963033] 4382.9020157904715\n"
     ]
    },
    {
     "data": {
      "text/plain": [
       "[<matplotlib.lines.Line2D at 0x14535758f40>]"
      ]
     },
     "execution_count": 7,
     "metadata": {},
     "output_type": "execute_result"
    },
    {
     "data": {
      "image/png": "[encoded data removed]",
      "text/plain": [
       "<Figure size 432x288 with 1 Axes>"
      ]
     },
     "metadata": {
      "needs_background": "light"
     },
     "output_type": "display_data"
    }
   ],
   "source": [
    "a,b = iterate(a,b,x,y,4)\n",
    "\n",
    "prediction=model (a,b, x)\n",
    "\n",
    "loss = loss_function(a, b, x, y)\n",
    "\n",
    "print (a,b, loss)\n",
    "\n",
    "plt.scatter (x,y)\n",
    "\n",
    "plt.plot (x,prediction)"
   ]
  },
  {
   "cell_type": "code",
   "execution_count": 8,
   "id": "baa6917a",
   "metadata": {},
   "outputs": [
    {
     "name": "stdout",
     "output_type": "stream",
     "text": [
      "[0.13349081] [0.73000242] 4253.10206380609\n"
     ]
    },
    {
     "data": {
      "text/plain": [
       "[<matplotlib.lines.Line2D at 0x145357d1670>]"
      ]
     },
     "execution_count": 8,
     "metadata": {},
     "output_type": "execute_result"
    },
    {
     "data": {
      "image/png": "[encoded data removed]",
      "text/plain": [
       "<Figure size 432x288 with 1 Axes>"
      ]
     },
     "metadata": {
      "needs_background": "light"
     },
     "output_type": "display_data"
    }
   ],
   "source": [
    "a,b = iterate(a,b,x,y,5)\n",
    "\n",
    "prediction=model (a,b, x)\n",
    "\n",
    "loss = loss_function(a, b, x, y)\n",
    "\n",
    "print (a,b, loss)\n",
    "\n",
    "plt.scatter (x,y)\n",
    "\n",
    "plt.plot (x,prediction)"
   ]
  },
  {
   "cell_type": "code",
   "execution_count": 9,
   "id": "43de9327",
   "metadata": {},
   "outputs": [
    {
     "name": "stdout",
     "output_type": "stream",
     "text": [
      "[1.67248932] [0.75022753] 198.61176073678314\n"
     ]
    },
    {
     "data": {
      "text/plain": [
       "[<matplotlib.lines.Line2D at 0x14535838cd0>]"
      ]
     },
     "execution_count": 9,
     "metadata": {},
     "output_type": "execute_result"
    },
    {
     "data": {
      "image/png": "[encoded data removed]",
      "text/plain": [
       "<Figure size 432x288 with 1 Axes>"
      ]
     },
     "metadata": {
      "needs_background": "light"
     },
     "output_type": "display_data"
    }
   ],
   "source": [
    "a,b = iterate(a,b,x,y,1000)\n",
    "\n",
    "prediction=model (a,b, x)\n",
    "\n",
    "loss = loss_function(a, b, x, y)\n",
    "\n",
    "print (a,b, loss)\n",
    "\n",
    "plt.scatter (x,y)\n",
    "\n",
    "plt.plot (x,prediction)"
   ]
  },
  {
   "cell_type": "code",
   "execution_count": null,
   "id": "ec1d2643",
   "metadata": {},
   "outputs": [],
   "source": []
  }
 ],
 "metadata": {
  "kernelspec": {
   "display_name": "Python 3 (ipykernel)",
   "language": "python",
   "name": "python3"
  },
  "language_info": {
   "codemirror_mode": {
    "name": "ipython",
    "version": 3
   },
   "file_extension": ".py",
   "mimetype": "text/x-python",
   "name": "python",
   "nbconvert_exporter": "python",
   "pygments_lexer": "ipython3",
   "version": "3.9.12"
  }
 },
 "nbformat": 4,
 "nbformat_minor": 5
}
